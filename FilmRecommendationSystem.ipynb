{
  "nbformat": 4,
  "nbformat_minor": 0,
  "metadata": {
    "colab": {
      "name": "Untitled0.ipynb",
      "provenance": [],
      "collapsed_sections": [],
      "toc_visible": true,
      "authorship_tag": "ABX9TyMUNUFiDj/h4GcSmrikxf1u",
      "include_colab_link": true
    },
    "kernelspec": {
      "name": "python3",
      "display_name": "Python 3"
    }
  },
  "cells": [
    {
      "cell_type": "markdown",
      "metadata": {
        "id": "view-in-github",
        "colab_type": "text"
      },
      "source": [
        "<a href=\"https://colab.research.google.com/github/luiscaballeroramos/FilmRecommendationSystem/blob/master/FilmRecommendationSystem.ipynb\" target=\"_parent\"><img src=\"https://colab.research.google.com/assets/colab-badge.svg\" alt=\"Open In Colab\"/></a>"
      ]
    },
    {
      "cell_type": "markdown",
      "metadata": {
        "id": "Jp6hX5uahy_J",
        "colab_type": "text"
      },
      "source": [
        "# Film Recommender"
      ]
    },
    {
      "cell_type": "markdown",
      "metadata": {
        "id": "IUvKNB3g01V0",
        "colab_type": "text"
      },
      "source": [
        "Se clona el repositorio de GitHub donde se encuentra lo siguiente:\n",
        "\n",
        "\n",
        "*   Datasets\n",
        "*   Elemento de lista\n",
        "\n"
      ]
    },
    {
      "cell_type": "code",
      "metadata": {
        "id": "wyUa1RLwtwiq",
        "colab_type": "code",
        "colab": {}
      },
      "source": [
        "! git clone https://github.com/luiscaballeroramos/FilmRecommendationSystem.git"
      ],
      "execution_count": 0,
      "outputs": []
    },
    {
      "cell_type": "code",
      "metadata": {
        "id": "SgsLRqyDxOfa",
        "colab_type": "code",
        "colab": {}
      },
      "source": [
        "from FilmRecommendationSystem.Functions import (PreCleaning_Dataframe,\n",
        "VbleType_Dataframe,\n",
        "MissingData_Dataframe,MissingData_Delete_Dataframe,\n",
        "DataConversion_Dataframe,DataConversion_Dataframe_FromString_ToDatetimeYear,DataConversion_Dataframe_FromTimestamp_ToDatetimeYear,\n",
        "UniquenessTest,UniqueIndex,\n",
        "EDA_Univariate_Dataframe,EDA_Multivariate_Dataframe)"
      ],
      "execution_count": 0,
      "outputs": []
    }
  ]
}